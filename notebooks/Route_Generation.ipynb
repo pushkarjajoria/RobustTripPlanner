{
 "cells": [
  {
   "cell_type": "code",
   "execution_count": 28,
   "metadata": {},
   "outputs": [],
   "source": [
    "import pandas as pd\n",
    "from hdfs3 import HDFileSystem\n",
    "hdfs = HDFileSystem(user='ebouille')\n",
    "import os\n",
    "username = os.environ['JUPYTERHUB_USER']\n",
    "import networkx as nx\n",
    "import plotly.graph_objects as go\n",
    "import matplotlib.pyplot as plt\n",
    "import numpy as np\n",
    "import pickle\n",
    "import heapq\n",
    "import pickle\n",
    "import networkx as nx\n",
    "import math\n",
    "from ipywidgets import interact, interactive, fixed, interact_manual\n",
    "import ipywidgets as widgets\n",
    "from IPython.display import clear_output\n",
    "from tqdm.notebook import tqdm\n",
    "\n",
    "from utils.file_utils import *\n",
    "from utils.graph_utils import *\n",
    "from utils.delay_utils import *\n",
    "from utils.viz_utils import *\n",
    "from utils.plan_utils import *"
   ]
  },
  {
   "cell_type": "code",
   "execution_count": 29,
   "metadata": {},
   "outputs": [],
   "source": [
    "stops = read_parquet_from_hdfs(\"stops\", username)\n",
    "trips = read_parquet_from_hdfs(\"trips\", username)\n",
    "routes = read_parquet_from_hdfs(\"routes\", username)\n",
    "trip_to_product = trip_to_product_func(username)\n",
    "\n",
    "direc = \"/work/final-assignment-group-y/data/\"\n",
    "filename = \"graph_reverse.pickle\"\n",
    "with open(direc + filename, 'rb') as config_dictionary_file:\n",
    "    G_rev = pickle.load(config_dictionary_file)\n",
    "    \n",
    "scaler = read_scaler_from_hdfs(\"delays_scaler_model\", username)\n",
    "log = read_logistic_regression_from_hdfs(\"delays_log_model\", username)\n",
    "\n",
    "gt = GraphTraversals(None, G_rev)"
   ]
  },
  {
   "cell_type": "code",
   "execution_count": 37,
   "metadata": {},
   "outputs": [],
   "source": [
    "def sample_routes(arrival_time, travel_date, confidence_threshold, n):\n",
    "    res = []\n",
    "    for _ in tqdm(range(n)):\n",
    "        try:\n",
    "            origin = stops.stop_id.sample().iloc[0]\n",
    "            destination = origin\n",
    "            while origin == destination:\n",
    "                destination = stops.stop_id.sample().iloc[0]\n",
    "            A = plan_travel(gt, origin, destination, arrival_time, travel_date, \n",
    "                            1, confidence_threshold, fast=True, \n",
    "                            scaler=scaler, model=log, product_id_map=product_id_map, trip_to_product=trip_to_product)\n",
    "            res.append(A)\n",
    "        except:\n",
    "            pass\n",
    "    return res"
   ]
  },
  {
   "cell_type": "code",
   "execution_count": 34,
   "metadata": {},
   "outputs": [],
   "source": [
    "arrival_time = \"14:00\"\n",
    "travel_date = \"14.05.2019\""
   ]
  },
  {
   "cell_type": "code",
   "execution_count": null,
   "metadata": {},
   "outputs": [],
   "source": [
    "A_08 = sample_routes(arrival_time, travel_date, 0.8, 50)"
   ]
  },
  {
   "cell_type": "code",
   "execution_count": null,
   "metadata": {},
   "outputs": [],
   "source": [
    "A_096 = sample_routes(arrival_time, travel_date, 0.96, 50)"
   ]
  },
  {
   "cell_type": "code",
   "execution_count": null,
   "metadata": {},
   "outputs": [],
   "source": [
    "A_base1 = sample_routes(arrival_time, travel_date, None, 50)"
   ]
  },
  {
   "cell_type": "code",
   "execution_count": 42,
   "metadata": {},
   "outputs": [],
   "source": [
    "with open('../data/A_08.pickle', 'wb') as f:\n",
    "    pickle.dump(A_08, f)\n",
    "\n",
    "with open('../data/A_096.pickle', 'wb') as f:\n",
    "    pickle.dump(A_096, f)\n",
    "    \n",
    "with open('../data/A_base1.pickle', 'wb') as f:\n",
    "    pickle.dump(A_base1, f)"
   ]
  },
  {
   "cell_type": "code",
   "execution_count": null,
   "metadata": {},
   "outputs": [],
   "source": []
  }
 ],
 "metadata": {
  "kernelspec": {
   "display_name": "Python 3",
   "language": "python",
   "name": "python3"
  },
  "language_info": {
   "codemirror_mode": {
    "name": "ipython",
    "version": 3
   },
   "file_extension": ".py",
   "mimetype": "text/x-python",
   "name": "python",
   "nbconvert_exporter": "python",
   "pygments_lexer": "ipython3",
   "version": "3.7.6"
  }
 },
 "nbformat": 4,
 "nbformat_minor": 4
}
