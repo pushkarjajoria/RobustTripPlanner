{
 "cells": [
  {
   "cell_type": "code",
   "execution_count": 1,
   "metadata": {},
   "outputs": [],
   "source": [
    "import pandas as pd\n",
    "from hdfs3 import HDFileSystem\n",
    "hdfs = HDFileSystem(user='ebouille')\n",
    "import os\n",
    "username = os.environ['JUPYTERHUB_USER']\n",
    "import networkx as nx\n",
    "import plotly.graph_objects as go\n",
    "import matplotlib.pyplot as plt\n",
    "import numpy as np\n",
    "import pickle\n",
    "import heapq\n",
    "import pickle\n",
    "import networkx as nx\n",
    "import math\n",
    "from ipywidgets import interact, interactive, fixed, interact_manual\n",
    "import ipywidgets as widgets\n",
    "from IPython.display import clear_output\n",
    "\n",
    "from utils.file_utils import *\n",
    "from utils.graph_utils import *\n",
    "from utils.delay_utils import *\n",
    "from utils.viz_utils import *\n",
    "from utils.plan_utils import *"
   ]
  },
  {
   "cell_type": "code",
   "execution_count": 2,
   "metadata": {},
   "outputs": [],
   "source": [
    "!git lfs pull\n",
    "clear_output()"
   ]
  },
  {
   "cell_type": "code",
   "execution_count": 3,
   "metadata": {},
   "outputs": [],
   "source": [
    "username = \"moiseev\" # Use this line if you want to use pretrained models.\n",
    "# username = os.environ['JUPYTERHUB_USER'] # Uncomment this line if you want to use your models."
   ]
  },
  {
   "cell_type": "code",
   "execution_count": 4,
   "metadata": {},
   "outputs": [],
   "source": [
    "print(\"Loading models...\")\n",
    "stops = read_parquet_from_hdfs(\"stops\", username)\n",
    "trips = read_parquet_from_hdfs(\"trips\", username)\n",
    "routes = read_parquet_from_hdfs(\"routes\", username)\n",
    "trip_to_product = trip_to_product_func(username)\n",
    "\n",
    "direc = \"/work/final-assignment-group-y/data/\"\n",
    "filename = \"graph_reverse.pickle\"\n",
    "with open(direc + filename, 'rb') as config_dictionary_file:\n",
    "    G_rev = pickle.load(config_dictionary_file)\n",
    "    \n",
    "scaler = read_scaler_from_hdfs(\"delays_scaler_model\", username)\n",
    "log = read_logistic_regression_from_hdfs(\"delays_log_model\", username)\n",
    "\n",
    "gt = GraphTraversals(None, G_rev)\n",
    "clear_output()"
   ]
  },
  {
   "cell_type": "markdown",
   "metadata": {},
   "source": [
    "### Choose journey details"
   ]
  },
  {
   "cell_type": "code",
   "execution_count": 5,
   "metadata": {},
   "outputs": [],
   "source": [
    "style = {'description_width': '200px'}\n",
    "layout = widgets.Layout(width='auto', height='auto')"
   ]
  },
  {
   "cell_type": "code",
   "execution_count": 6,
   "metadata": {},
   "outputs": [],
   "source": [
    "stop_options = list(zip(stops.stop_name, stops.stop_id))\n",
    "stop_options.sort(key = lambda x: x[0])\n",
    "origin_dropdown = widgets.Combobox(\n",
    "    value=stop_options[0][0]+': '+str(stop_options[0][1]),\n",
    "    placeholder='Choose Origin',\n",
    "    options=[i[0]+': '+str(i[1]) for i in stop_options],\n",
    "    description='Origin:',\n",
    "    ensure_option=True,\n",
    "    disabled=False,\n",
    "    style=style,\n",
    "    layout=layout,\n",
    ")"
   ]
  },
  {
   "cell_type": "code",
   "execution_count": 7,
   "metadata": {},
   "outputs": [],
   "source": [
    "destination_dropdown = widgets.Combobox(\n",
    "    value=stop_options[1][0]+': '+str(stop_options[1][1]),\n",
    "    placeholder='Choose Destination',\n",
    "    options=[i[0]+': '+str(i[1]) for i in stop_options],\n",
    "    description='Destination:',\n",
    "    ensure_option=True,\n",
    "    disabled=False,\n",
    "    style=style,\n",
    "    layout=layout, \n",
    ")"
   ]
  },
  {
   "cell_type": "code",
   "execution_count": 8,
   "metadata": {},
   "outputs": [],
   "source": [
    "time_widget = widgets.Text(\n",
    "    value=\"14:00\",\n",
    "    description='Pick arrival time',\n",
    "    disabled=False,\n",
    "    style=style,\n",
    "    layout=layout,\n",
    ")"
   ]
  },
  {
   "cell_type": "code",
   "execution_count": 9,
   "metadata": {},
   "outputs": [],
   "source": [
    "date_widget = widgets.Text(\n",
    "    value=\"14.05.2019\",\n",
    "    description='Pick travel date',\n",
    "    disabled=False,\n",
    "    style=style,\n",
    "    layout=layout,\n",
    ")"
   ]
  },
  {
   "cell_type": "code",
   "execution_count": 10,
   "metadata": {},
   "outputs": [],
   "source": [
    "confidence_threshold = widgets.BoundedFloatText(\n",
    "    value=0.8,\n",
    "    min=0,\n",
    "    max=1.0,\n",
    "    step=0.01,\n",
    "    description='Confidence threshold',\n",
    "    disabled=False,\n",
    "    style=style,\n",
    "    layout=layout\n",
    ")"
   ]
  },
  {
   "cell_type": "code",
   "execution_count": 11,
   "metadata": {},
   "outputs": [],
   "source": [
    "n_routes_widget = widgets.IntText(\n",
    "    value=1,\n",
    "    description='Pick number of predicted routes',\n",
    "    disabled=False,\n",
    "    style=style,\n",
    "    layout=layout,\n",
    ")"
   ]
  },
  {
   "cell_type": "code",
   "execution_count": 12,
   "metadata": {},
   "outputs": [],
   "source": [
    "def interactive_search(origin, destination, arrival_time, travel_date, n_routes, confidence_threshold):\n",
    "    clear_output()\n",
    "    print(\"Computation in progress...\")\n",
    "    origin = int(origin.split(': ')[1])\n",
    "    destination = int(destination.split(': ')[1])\n",
    "    A = plan_travel(gt, origin, destination, arrival_time, travel_date, \n",
    "                    n_routes, confidence_threshold, fast=True, \n",
    "                    scaler=scaler, model=log, product_id_map=product_id_map, trip_to_product=trip_to_product)\n",
    "    fig = visualize(A, trips, routes, stops)\n",
    "    clear_output()\n",
    "    fig.show()"
   ]
  },
  {
   "cell_type": "code",
   "execution_count": 13,
   "metadata": {},
   "outputs": [
    {
     "data": {
      "application/vnd.jupyter.widget-view+json": {
       "model_id": "d858ea30be46445bb6196476f4a99c0f",
       "version_major": 2,
       "version_minor": 0
      },
      "text/plain": [
       "interactive(children=(Combobox(value='Adlikon b. R., Dorf: 508', description='Origin:', ensure_option=True, la…"
      ]
     },
     "metadata": {},
     "output_type": "display_data"
    }
   ],
   "source": [
    "widgets.interactive(\n",
    "    interactive_search, \n",
    "    origin=origin_dropdown,\n",
    "    destination=destination_dropdown,\n",
    "    arrival_time=time_widget,\n",
    "    travel_date=date_widget,\n",
    "    n_routes=n_routes_widget,\n",
    "    confidence_threshold=confidence_threshold)"
   ]
  }
 ],
 "metadata": {
  "kernelspec": {
   "display_name": "Python 3",
   "language": "python",
   "name": "python3"
  },
  "language_info": {
   "codemirror_mode": {
    "name": "ipython",
    "version": 3
   },
   "file_extension": ".py",
   "mimetype": "text/x-python",
   "name": "python",
   "nbconvert_exporter": "python",
   "pygments_lexer": "ipython3",
   "version": "3.7.6"
  }
 },
 "nbformat": 4,
 "nbformat_minor": 4
}
